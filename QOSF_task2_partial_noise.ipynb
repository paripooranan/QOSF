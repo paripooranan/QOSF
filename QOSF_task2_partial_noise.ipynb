{
 "cells": [
  {
   "cell_type": "code",
   "execution_count": 7,
   "metadata": {},
   "outputs": [],
   "source": [
    "from qiskit import QuantumCircuit,execute,Aer,QuantumRegister\n",
    "import numpy as np\n",
    "from math import pi  \n",
    "import random\n",
    "from qiskit.visualization import plot_bloch_multivector\n"
   ]
  },
  {
   "cell_type": "code",
   "execution_count": 2,
   "metadata": {},
   "outputs": [],
   "source": [
    "simulator = Aer.get_backend('statevector_simulator')"
   ]
  },
  {
   "cell_type": "code",
   "execution_count": 32,
   "metadata": {},
   "outputs": [
    {
     "name": "stdout",
     "output_type": "stream",
     "text": [
      "Error gates: ['x', 'x']\n"
     ]
    },
    {
     "data": {
      "text/plain": [
       "<qiskit.circuit.instructionset.InstructionSet at 0x20ce18f6430>"
      ]
     },
     "execution_count": 32,
     "metadata": {},
     "output_type": "execute_result"
    }
   ],
   "source": [
    "\n",
    "\n",
    "    # intialized a quantum circuit with 2 input qubits and 2 ancilla qubits\n",
    "    qr = QuantumRegister(2,'q')\n",
    "    anc = QuantumRegister(2,'ancilla')\n",
    "    circuit = QuantumCircuit(qr,anc)\n",
    "    \n",
    "    circuit.h(qr[0])\n",
    "    \n",
    "    circuit.cx(qr[0], anc[0])\n",
    "    \n",
    "   # Applying noise in the form of a gate ( X or Z or I), chosen at random. The assumption is that noise occurs only on the logical\n",
    "   # (ie input) qubits. Each qubit can have different gates at the same time.\n",
    "    error_gates = ['x','z','i']\n",
    "    error = random.choices(error_gates,weights=(40,30,30),k=2)\n",
    "   \n",
    "    print(\"Error gates:\",error)\n",
    "    if error[0] == 'x':\n",
    "        circuit.x(qr[0])\n",
    "    if error[0] == 'z':\n",
    "        circuit.h(qr[0])\n",
    "        circuit.z(qr[0])\n",
    "        circuit.h(qr[0])\n",
    "    if error[0] == 'i':\n",
    "        circuit.i(qr[0])\n",
    "    if error[1] == 'x':\n",
    "        circuit.x(qr[1])\n",
    "    if error[1] == 'z':\n",
    "        circuit.z(qr[1])\n",
    "    if error[1] == 'i':\n",
    "        circuit.i(qr[1])\n",
    "        \n",
    "        \n",
    "    circuit.cx(qr[1],anc[1])\n",
    "    circuit.cx(anc[1],qr[1])\n",
    "    circuit.cx(qr[0], anc[0])\n",
    "    circuit.cx(anc[0], qr[0])\n",
    "    circuit.cx(qr[0], qr[1])\n",
    "    \n",
    "    "
   ]
  },
  {
   "cell_type": "code",
   "execution_count": 33,
   "metadata": {},
   "outputs": [
    {
     "name": "stdout",
     "output_type": "stream",
     "text": [
      "\n",
      "Qubits of interest are the 1st and 2nd qubits from right to left(q_0 and q_1): {'1100': 0.5, '1111': 0.5}\n"
     ]
    },
    {
     "data": {
      "text/html": [
       "<pre style=\"word-wrap: normal;white-space: pre;background: #fff0;line-height: 1.1;font-family: &quot;Courier New&quot;,Courier,monospace\">           ┌───┐     ┌───┐          ┌───┐     \n",
       "      q_0: ┤ H ├──■──┤ X ├───────■──┤ X ├──■──\n",
       "           ├───┤  │  └───┘┌───┐  │  └─┬─┘┌─┴─┐\n",
       "      q_1: ┤ X ├──┼────■──┤ X ├──┼────┼──┤ X ├\n",
       "           └───┘┌─┴─┐  │  └─┬─┘┌─┴─┐  │  └───┘\n",
       "ancilla_0: ─────┤ X ├──┼────┼──┤ X ├──■───────\n",
       "                └───┘┌─┴─┐  │  └───┘          \n",
       "ancilla_1: ──────────┤ X ├──■─────────────────\n",
       "                     └───┘                    </pre>"
      ],
      "text/plain": [
       "           ┌───┐     ┌───┐          ┌───┐     \n",
       "      q_0: ┤ H ├──■──┤ X ├───────■──┤ X ├──■──\n",
       "           ├───┤  │  └───┘┌───┐  │  └─┬─┘┌─┴─┐\n",
       "      q_1: ┤ X ├──┼────■──┤ X ├──┼────┼──┤ X ├\n",
       "           └───┘┌─┴─┐  │  └─┬─┘┌─┴─┐  │  └───┘\n",
       "ancilla_0: ─────┤ X ├──┼────┼──┤ X ├──■───────\n",
       "                └───┘┌─┴─┐  │  └───┘          \n",
       "ancilla_1: ──────────┤ X ├──■─────────────────\n",
       "                     └───┘                    "
      ]
     },
     "execution_count": 33,
     "metadata": {},
     "output_type": "execute_result"
    }
   ],
   "source": [
    "\n",
    "\n",
    "job = execute(circuit, simulator)\n",
    "\n",
    "# Grab results from the job\n",
    "result = job.result()\n",
    "state = result.get_statevector()\n",
    "# Returns counts\n",
    "counts = result.get_counts(circuit)\n",
    "print(\"\\nQubits of interest are the 1st and 2nd qubits from right to left(q_0 and q_1):\",counts)\n",
    "\n",
    "# Draw the circuit\n",
    "circuit.draw()\n",
    "\n",
    "#plot_bloch_multivector(state)"
   ]
  }
 ],
 "metadata": {
  "kernelspec": {
   "display_name": "qic",
   "language": "python",
   "name": "qic"
  },
  "language_info": {
   "codemirror_mode": {
    "name": "ipython",
    "version": 3
   },
   "file_extension": ".py",
   "mimetype": "text/x-python",
   "name": "python",
   "nbconvert_exporter": "python",
   "pygments_lexer": "ipython3",
   "version": "3.8.5"
  }
 },
 "nbformat": 4,
 "nbformat_minor": 4
}
