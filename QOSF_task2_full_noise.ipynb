{
 "cells": [
  {
   "cell_type": "code",
   "execution_count": 13,
   "metadata": {},
   "outputs": [],
   "source": [
    "from qiskit import QuantumCircuit,execute,Aer,QuantumRegister\n",
    "import numpy as np\n",
    "from math import pi  \n",
    "import random\n",
    "from qiskit.visualization import plot_bloch_multivector\n"
   ]
  },
  {
   "cell_type": "code",
   "execution_count": 14,
   "metadata": {},
   "outputs": [],
   "source": [
    "simulator = Aer.get_backend('statevector_simulator')"
   ]
  },
  {
   "cell_type": "code",
   "execution_count": 39,
   "metadata": {},
   "outputs": [
    {
     "name": "stdout",
     "output_type": "stream",
     "text": [
      "[0]\n"
     ]
    },
    {
     "data": {
      "text/plain": [
       "<qiskit.circuit.instructionset.InstructionSet at 0x1496378f460>"
      ]
     },
     "execution_count": 39,
     "metadata": {},
     "output_type": "execute_result"
    }
   ],
   "source": [
    " # intialized a quantum circuit where the 1st (q_0) and 4th (q_3) qubits are the input qubits and the rest are ancilla qubits\n",
    "    \n",
    "circuit = QuantumCircuit(6)\n",
    "circuit.h(0)\n",
    "circuit.cx(0,1)\n",
    "circuit.cx(0,2)\n",
    "circuit.cx(3,4)\n",
    "circuit.cx(3,5)\n",
    "    \n",
    "    \n",
    "# Applying noise in the form of a gate ( X or Z or I), chosen at random. The assumption is that the noise occurs \n",
    "# at utmost one qubit in a collection ( a collection here is 1 input qubit and its 2 ancillary qubits). So one gate chosen\n",
    "# at random for either of q_0,q_1 or q_2 and another for either of q_3,q_4 or q_5. Each gate can be different at a given time.\n",
    "\n",
    "error_gates = ['x','z','i']\n",
    "error = random.choices(error_gates,weights=(40,30,30),k=2)\n",
    "error_bits_1 = [0,1,2]\n",
    "error_bit_1 = random.choices(error_bits_1,weights=(40,30,30),k=1)\n",
    "error_bits_2 = [3,4,5]\n",
    "error_bit_2 = random.choices(error_bits_2,weights=(40,30,30),k=1)\n",
    "# error = ['z', 'x']\n",
    "print(error_bit_1)\n",
    "if error[0] == 'x':\n",
    "    circuit.x(error_bit_1[0])\n",
    "if error[0] == 'z':\n",
    "    if error_bit_1[0] == 0:\n",
    "        circuit.h(error_bit_1[0])\n",
    "        circuit.z(error_bit_1[0])\n",
    "        circuit.h(error_bit_1[0])\n",
    "    else:\n",
    "        circuit.z(error_bit_1[0])\n",
    "if error[0] == 'i':\n",
    "    circuit.i(error_bit_1[0])\n",
    "if error[1] == 'x':\n",
    "    circuit.x(error_bit_2[0])\n",
    "if error[1] == 'z':\n",
    "    circuit.z(error_bit_2[0])\n",
    "if error[1] == 'i':\n",
    "    circuit.i(error_bit_2[0])\n",
    "    \n",
    "    \n",
    "\n",
    "circuit.cx(0,1)\n",
    "circuit.cx(0,2)\n",
    "circuit.ccx(2,1,0)\n",
    "circuit.cx(3,4)\n",
    "circuit.cx(3,5)\n",
    "circuit.ccx(5,4,3)\n",
    "circuit.cx(0,3)"
   ]
  },
  {
   "cell_type": "code",
   "execution_count": 42,
   "metadata": {},
   "outputs": [
    {
     "name": "stdout",
     "output_type": "stream",
     "text": [
      "\n",
      " Qubits of interest are the first and fourth qubits from right to left (q_0 and q_3): {'000110': 0.5, '001111': 0.5}\n"
     ]
    },
    {
     "data": {
      "text/html": [
       "<pre style=\"word-wrap: normal;white-space: pre;background: #fff0;line-height: 1.1;font-family: &quot;Courier New&quot;,Courier,monospace\">     ┌───┐          ┌───┐┌───┐┌───┐          ┌───┐     \n",
       "q_0: ┤ H ├──■────■──┤ H ├┤ Z ├┤ H ├──■────■──┤ X ├──■──\n",
       "     └───┘┌─┴─┐  │  └───┘└───┘└───┘┌─┴─┐  │  └─┬─┘  │  \n",
       "q_1: ─────┤ X ├──┼─────────────────┤ X ├──┼────■────┼──\n",
       "          └───┘┌─┴─┐               └───┘┌─┴─┐  │    │  \n",
       "q_2: ──────────┤ X ├────────────────────┤ X ├──■────┼──\n",
       "               └───┘          ┌───┐     └───┘     ┌─┴─┐\n",
       "q_3: ──■────■─────────■────■──┤ X ├───────────────┤ X ├\n",
       "     ┌─┴─┐  │  ┌───┐┌─┴─┐  │  └─┬─┘               └───┘\n",
       "q_4: ┤ X ├──┼──┤ Z ├┤ X ├──┼────■──────────────────────\n",
       "     └───┘┌─┴─┐└───┘└───┘┌─┴─┐  │                      \n",
       "q_5: ─────┤ X ├──────────┤ X ├──■──────────────────────\n",
       "          └───┘          └───┘                         </pre>"
      ],
      "text/plain": [
       "     ┌───┐          ┌───┐┌───┐┌───┐          ┌───┐     \n",
       "q_0: ┤ H ├──■────■──┤ H ├┤ Z ├┤ H ├──■────■──┤ X ├──■──\n",
       "     └───┘┌─┴─┐  │  └───┘└───┘└───┘┌─┴─┐  │  └─┬─┘  │  \n",
       "q_1: ─────┤ X ├──┼─────────────────┤ X ├──┼────■────┼──\n",
       "          └───┘┌─┴─┐               └───┘┌─┴─┐  │    │  \n",
       "q_2: ──────────┤ X ├────────────────────┤ X ├──■────┼──\n",
       "               └───┘          ┌───┐     └───┘     ┌─┴─┐\n",
       "q_3: ──■────■─────────■────■──┤ X ├───────────────┤ X ├\n",
       "     ┌─┴─┐  │  ┌───┐┌─┴─┐  │  └─┬─┘               └───┘\n",
       "q_4: ┤ X ├──┼──┤ Z ├┤ X ├──┼────■──────────────────────\n",
       "     └───┘┌─┴─┐└───┘└───┘┌─┴─┐  │                      \n",
       "q_5: ─────┤ X ├──────────┤ X ├──■──────────────────────\n",
       "          └───┘          └───┘                         "
      ]
     },
     "execution_count": 42,
     "metadata": {},
     "output_type": "execute_result"
    }
   ],
   "source": [
    "job = execute(circuit, simulator)\n",
    "\n",
    "# Grab results from the job\n",
    "result = job.result()\n",
    "state = result.get_statevector()\n",
    "# Returns counts\n",
    "counts = result.get_counts(circuit)\n",
    "print(\"\\n Qubits of interest are the first and fourth qubits from right to left (q_0 and q_3):\",counts)\n",
    "\n",
    "# Draw the circuit\n",
    "circuit.draw()\n",
    "\n",
    "#plot_bloch_multivector(state)"
   ]
  }
 ],
 "metadata": {
  "kernelspec": {
   "display_name": "qic",
   "language": "python",
   "name": "qic"
  },
  "language_info": {
   "codemirror_mode": {
    "name": "ipython",
    "version": 3
   },
   "file_extension": ".py",
   "mimetype": "text/x-python",
   "name": "python",
   "nbconvert_exporter": "python",
   "pygments_lexer": "ipython3",
   "version": "3.8.5"
  }
 },
 "nbformat": 4,
 "nbformat_minor": 4
}
