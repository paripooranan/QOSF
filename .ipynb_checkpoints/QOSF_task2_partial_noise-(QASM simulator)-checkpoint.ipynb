{
 "cells": [
  {
   "cell_type": "code",
   "execution_count": 12,
   "metadata": {},
   "outputs": [],
   "source": [
    "from qiskit import QuantumCircuit,execute,Aer,QuantumRegister\n",
    "import numpy as np\n",
    "from math import pi  \n",
    "import random\n",
    "from qiskit.visualization import plot_bloch_multivector\n"
   ]
  },
  {
   "cell_type": "code",
   "execution_count": 13,
   "metadata": {},
   "outputs": [],
   "source": [
    "simulator = Aer.get_backend('qasm_simulator')"
   ]
  },
  {
   "cell_type": "code",
   "execution_count": 23,
   "metadata": {},
   "outputs": [
    {
     "name": "stdout",
     "output_type": "stream",
     "text": [
      "Error gates: ['z', 'i']\n"
     ]
    },
    {
     "data": {
      "text/plain": [
       "<qiskit.circuit.instructionset.InstructionSet at 0x14deb879f70>"
      ]
     },
     "execution_count": 23,
     "metadata": {},
     "output_type": "execute_result"
    }
   ],
   "source": [
    "\n",
    "\n",
    "    # intialized a quantum circuit with 4 qubits ( 2 input and 2 ancilla) and 2 classical bits\n",
    "    \n",
    "    circuit = QuantumCircuit(4,2)\n",
    "    \n",
    "    circuit.h(0)\n",
    "    \n",
    "    circuit.cx(0, 2)\n",
    "    \n",
    "    # Applying noise in the form of a gate ( X or Z or I), chosen at random. The assumption is that noise occurs only on the logical\n",
    "   # (ie input) qubits. Each qubit can have different gates at the same time.\n",
    "    error_gates = ['x','z','i']\n",
    "    error = random.choices(error_gates,weights=(40,30,30),k=2)\n",
    "  \n",
    "    print(\"Error gates:\",error)\n",
    "    if error[0] == 'x':\n",
    "        circuit.x(0)\n",
    "    if error[0] == 'z':\n",
    "        circuit.h(0)\n",
    "        circuit.z(0)\n",
    "        circuit.h(0)\n",
    "    if error[0] == 'i':\n",
    "        circuit.i(0)\n",
    "    if error[1] == 'x':\n",
    "        circuit.x(1)\n",
    "    if error[1] == 'z':\n",
    "        circuit.z(1)\n",
    "    if error[1] == 'i':\n",
    "        circuit.i(1)\n",
    "    circuit.cx(1,3)\n",
    "    circuit.cx(3,1)\n",
    "    circuit.cx(0,2)\n",
    "    circuit.cx(2,0)\n",
    "    circuit.cx(0,1)\n",
    "    \n",
    "    "
   ]
  },
  {
   "cell_type": "code",
   "execution_count": 24,
   "metadata": {},
   "outputs": [
    {
     "name": "stdout",
     "output_type": "stream",
     "text": [
      "\n",
      "Qubits of interest are measured(q_0 and q_1):: {'11': 478, '00': 522}\n"
     ]
    },
    {
     "data": {
      "text/html": [
       "<pre style=\"word-wrap: normal;white-space: pre;background: #fff0;line-height: 1.1;font-family: &quot;Courier New&quot;,Courier,monospace\">     ┌───┐     ┌───┐┌───┐┌───┐     ┌───┐     ┌─┐   \n",
       "q_0: ┤ H ├──■──┤ H ├┤ Z ├┤ H ├──■──┤ X ├──■──┤M├───\n",
       "     ├───┤  │  └───┘├───┤└───┘  │  └─┬─┘┌─┴─┐└╥┘┌─┐\n",
       "q_1: ┤ I ├──┼────■──┤ X ├───────┼────┼──┤ X ├─╫─┤M├\n",
       "     └───┘┌─┴─┐  │  └─┬─┘     ┌─┴─┐  │  └───┘ ║ └╥┘\n",
       "q_2: ─────┤ X ├──┼────┼───────┤ X ├──■────────╫──╫─\n",
       "          └───┘┌─┴─┐  │       └───┘           ║  ║ \n",
       "q_3: ──────────┤ X ├──■───────────────────────╫──╫─\n",
       "               └───┘                          ║  ║ \n",
       "c_0: ═════════════════════════════════════════╩══╬═\n",
       "                                                 ║ \n",
       "c_1: ════════════════════════════════════════════╩═\n",
       "                                                   </pre>"
      ],
      "text/plain": [
       "     ┌───┐     ┌───┐┌───┐┌───┐     ┌───┐     ┌─┐   \n",
       "q_0: ┤ H ├──■──┤ H ├┤ Z ├┤ H ├──■──┤ X ├──■──┤M├───\n",
       "     ├───┤  │  └───┘├───┤└───┘  │  └─┬─┘┌─┴─┐└╥┘┌─┐\n",
       "q_1: ┤ I ├──┼────■──┤ X ├───────┼────┼──┤ X ├─╫─┤M├\n",
       "     └───┘┌─┴─┐  │  └─┬─┘     ┌─┴─┐  │  └───┘ ║ └╥┘\n",
       "q_2: ─────┤ X ├──┼────┼───────┤ X ├──■────────╫──╫─\n",
       "          └───┘┌─┴─┐  │       └───┘           ║  ║ \n",
       "q_3: ──────────┤ X ├──■───────────────────────╫──╫─\n",
       "               └───┘                          ║  ║ \n",
       "c_0: ═════════════════════════════════════════╩══╬═\n",
       "                                                 ║ \n",
       "c_1: ════════════════════════════════════════════╩═\n",
       "                                                   "
      ]
     },
     "execution_count": 24,
     "metadata": {},
     "output_type": "execute_result"
    }
   ],
   "source": [
    "\n",
    "circuit.measure([0,1], [0,1])\n",
    "job = execute(circuit, simulator,shots=1000)\n",
    "\n",
    "# Grab results from the job\n",
    "result = job.result()\n",
    "#state = result.get_statevector()\n",
    "# Returns counts\n",
    "counts = result.get_counts(circuit)\n",
    "print(\"\\nQubits of interest are measured(q_0 and q_1)::\",counts)\n",
    "\n",
    "# Draw the circuit\n",
    "circuit.draw()\n",
    "\n",
    "#plot_bloch_multivector(state)"
   ]
  }
 ],
 "metadata": {
  "kernelspec": {
   "display_name": "qic",
   "language": "python",
   "name": "qic"
  },
  "language_info": {
   "codemirror_mode": {
    "name": "ipython",
    "version": 3
   },
   "file_extension": ".py",
   "mimetype": "text/x-python",
   "name": "python",
   "nbconvert_exporter": "python",
   "pygments_lexer": "ipython3",
   "version": "3.8.5"
  }
 },
 "nbformat": 4,
 "nbformat_minor": 4
}
